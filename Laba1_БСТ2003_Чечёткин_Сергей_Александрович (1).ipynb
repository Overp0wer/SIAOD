{
 "cells": [
  {
   "cell_type": "markdown",
   "id": "4f403c47",
   "metadata": {},
   "source": [
    "# Лабораторная работа №1\n",
    "## Выполнил студент группы БСТ2003 Чечёткин Сергей Александрович\n",
    "### Задание №1\n",
    "Описание условия задания"
   ]
  },
  {
   "cell_type": "code",
   "execution_count": 1,
   "id": "4a5b3f62",
   "metadata": {},
   "outputs": [
    {
     "name": "stdout",
     "output_type": "stream",
     "text": [
      "Hello,World!\n"
     ]
    }
   ],
   "source": [
    "print(\"Hello,World!\")"
   ]
  },
  {
   "cell_type": "code",
   "execution_count": 2,
   "id": "22f11843",
   "metadata": {},
   "outputs": [],
   "source": [
    "from random import randint\n",
    "import time\n",
    "import copy\n",
    "import math\n",
    "import pandas as pd"
   ]
  },
  {
   "cell_type": "markdown",
   "id": "8b3106b1",
   "metadata": {},
   "source": [
    "### Задание №2\n",
    "Написать генератор случайных матриц(многомерных), который принимает\n",
    "опциональные параметры m, n, min_limit, max_limit, где m и n указывают размер\n",
    "матрицы, а min_lim и max_lim - минимальное и максимальное значение для\n",
    "генерируемого числа . По умолчанию при отсутствии параметров принимать следующие\n",
    "значения:\n",
    "m = 50\n",
    "n = 50\n",
    "min_limit = -250\n",
    "max_limit = 1000 + (номер своего варианта)"
   ]
  },
  {
   "cell_type": "code",
   "execution_count": 16,
   "id": "99a4bdcf",
   "metadata": {},
   "outputs": [],
   "source": [
    "def M_create(Q_ans):\n",
    "\n",
    "    if Q_ans == \"Да\" or Q_ans == \"да\":\n",
    "        m = int(input(\"Введите количество строк: \"))\n",
    "        n = int(input(\"Введите количество столбцов: \"))\n",
    "        min_limit = int(input(\"Укажите начальный диапозон чисел для генерации: \"))\n",
    "        max_limit = int(input(\"Укажите конечный диапозон чисел для генерации: \"))\n",
    "        matrix = [[randint(min_limit, max_limit+1) for j in range(m)] for i in range(n)]\n",
    "        return matrix\n",
    "    elif Q_ans == \"Нет\" or Q_ans == \"нет\":\n",
    "        m = 50\n",
    "        n = 50\n",
    "        min_limit = -250\n",
    "        max_limit = 1000 + 15\n",
    "        matrix = [[randint(min_limit, max_limit+1) for j in range(m)] for i in range(n)]\n",
    "        return matrix\n",
    "    else:\n",
    "        matrix = [\"Пожалуйста, ответьте на вопрос строго Да или Нет\"]\n",
    "        return matrix "
   ]
  },
  {
   "cell_type": "markdown",
   "id": "13358e03",
   "metadata": {},
   "source": [
    "### Задание №3\n",
    "Реализовать методы сортировки строк числовой матрицы в соответствии с\n",
    "заданием. Оценить время работы каждого алгоритма сортировки и сравнить его со\n",
    "временем стандартной функции сортировки. Испытания проводить на сгенерированных\n",
    "матрицах.\n",
    "Методы:Выбором,Вставкой,Обменом,Шелла,Турнирная,Быстрая сортировка,Пирамидальная\n"
   ]
  },
  {
   "cell_type": "code",
   "execution_count": 4,
   "id": "2cb0e7e0",
   "metadata": {},
   "outputs": [],
   "source": [
    "def Selection_sort(matrix):\n",
    "    for row in range(len(matrix)):\n",
    "        for col in range(len(matrix[row])-1):\n",
    "            for colS in range(col+1, len(matrix[row])):\n",
    "                if matrix[row][colS] < matrix[row][col]:\n",
    "                    matrix[row][col], matrix[row][colS] = matrix[row][colS], matrix[row][col]\n",
    "    return matrix"
   ]
  },
  {
   "cell_type": "code",
   "execution_count": 5,
   "id": "9521d083",
   "metadata": {},
   "outputs": [],
   "source": [
    "def insertion_sort(matrix):\n",
    "    for row in range(len(matrix)):\n",
    "        for col in range (1,len(matrix[row])):\n",
    "            key = matrix[row][col]\n",
    "            j = col-1\n",
    "            while j >=0 and key < matrix[row][j]:\n",
    "                matrix[row][j+1] = matrix[row][j]\n",
    "                j -= 1\n",
    "            matrix[row][j+1] = key\n",
    "    return matrix\n"
   ]
  },
  {
   "cell_type": "code",
   "execution_count": 6,
   "id": "ad5484a9",
   "metadata": {},
   "outputs": [],
   "source": [
    "def bubble_sort(matrix):\n",
    "    for row in range(len(matrix)):\n",
    "        for col in range(len(matrix)-1):\n",
    "            for j in range(len(matrix)-col-1):\n",
    "                if matrix[row][j] > matrix[row][j+1]:\n",
    "                    matrix[row][j], matrix[row][j+1] = matrix[row][j+1], matrix[row][j]\n",
    "    return matrix"
   ]
  },
  {
   "cell_type": "code",
   "execution_count": 7,
   "id": "5aee6d93",
   "metadata": {},
   "outputs": [],
   "source": [
    "def shellSort(matrix):\n",
    "    n = len(matrix)\n",
    "    k = int(math.log2(n))\n",
    "    interval = int(2**k -1)\n",
    "    while interval > 0:\n",
    "        for row in range(len(matrix)):\n",
    "            for col in range(interval, n):\n",
    "                temp = matrix[row][col]\n",
    "                j = col\n",
    "                while j >= interval and matrix[row][j - interval] > temp:\n",
    "                    matrix[row][j] = matrix[row][j - interval]\n",
    "                    j -= interval\n",
    "                matrix[row][j] = temp\n",
    "        k -= 1\n",
    "        interval = int(2**k -1)\n",
    "    return matrix"
   ]
  },
  {
   "cell_type": "code",
   "execution_count": 8,
   "id": "b3ace5e9",
   "metadata": {},
   "outputs": [],
   "source": [
    "def heapify(matrix, n, i, row):\n",
    "    largest = i\n",
    "    l = 2 * i + 1\n",
    "    r = 2 * i + 2\n",
    "    \n",
    "    if l < n and matrix[row][i] < matrix[row][l]:\n",
    "        largest = l\n",
    "    if r < n and matrix[row][largest] < matrix[row][r]:\n",
    "        largest = r\n",
    "    \n",
    "    if largest != i:\n",
    "        matrix[row][i], matrix[row][largest] = matrix[row][largest], matrix[row][i]\n",
    "        heapify(matrix, n, largest, row)"
   ]
  },
  {
   "cell_type": "code",
   "execution_count": 9,
   "id": "f9bb3711",
   "metadata": {},
   "outputs": [],
   "source": [
    "def heapSort(matrix):\n",
    "    for row in range(len(matrix)):\n",
    "        n = len(matrix)\n",
    "        for i in range(n//2, -1, -1):\n",
    "            heapify(matrix, n, i, row)\n",
    "        for i in range(n-1, 0, -1):\n",
    "            matrix[row][i], matrix[row][0] = matrix[row][0], matrix[row][i]\n",
    "            heapify(matrix, i, 0, row)\n",
    "    return matrix"
   ]
  },
  {
   "cell_type": "code",
   "execution_count": 10,
   "id": "e95e7cd6",
   "metadata": {},
   "outputs": [],
   "source": [
    "def partition(matrix, low, high,row):\n",
    "    pivot = matrix[row][(low + high) // 2]\n",
    "    i = low - 1\n",
    "    j = high + 1\n",
    "    while True:\n",
    "        i += 1\n",
    "        while matrix[row][i] < pivot:\n",
    "            i += 1\n",
    "\n",
    "        j -= 1\n",
    "        while matrix[row][j] > pivot:\n",
    "            j -= 1\n",
    "\n",
    "        if i >= j:\n",
    "            return j\n",
    "\n",
    "        matrix[row][i], matrix[row][j] = matrix[row][j], matrix[row][i]"
   ]
  },
  {
   "cell_type": "code",
   "execution_count": 11,
   "id": "245aa076",
   "metadata": {},
   "outputs": [],
   "source": [
    "def quick_sort(matrix):\n",
    "    def _quick_sort(items, low, high,row):\n",
    "        if low < high:\n",
    "            split_index = partition(items, low, high,row)\n",
    "            _quick_sort(items, low, split_index,row)\n",
    "            _quick_sort(items, split_index + 1, high,row)\n",
    "\n",
    "    for row in range(len(matrix)):\n",
    "        _quick_sort(matrix, 0, len(matrix[row])-1,row)\n",
    "\n",
    "    return matrix"
   ]
  },
  {
   "cell_type": "code",
   "execution_count": 17,
   "id": "3c121954",
   "metadata": {
    "scrolled": false
   },
   "outputs": [
    {
     "name": "stdout",
     "output_type": "stream",
     "text": [
      "Хотите ли вы указать параметры матрицы Да/Нет? нет\n"
     ]
    }
   ],
   "source": [
    "Q_ans = input(\"Хотите ли вы указать параметры матрицы Да/Нет? \")\n",
    "matrix = M_create(Q_ans)\n",
    "#print(\"Сгененированная матрица:\")\n",
    "#for i in range (len(matrix)):\n",
    "#    print(matrix[i])\n",
    "            \n",
    "        "
   ]
  },
  {
   "cell_type": "code",
   "execution_count": 19,
   "id": "f92b3be4",
   "metadata": {},
   "outputs": [
    {
     "name": "stdout",
     "output_type": "stream",
     "text": [
      "Время выполнения:  0.01 sec\n"
     ]
    }
   ],
   "source": [
    "Selection_sort_matrix = copy.deepcopy(matrix)\n",
    "start_time = time.time()\n",
    "Selection_sort(Selection_sort_matrix)\n",
    "end_time_Selection_sort = time.time()-start_time\n",
    "#print(\"Сортировка простым выбором:\")\n",
    "\n",
    "#for i in range (len(Selection_sort_matrix)):\n",
    "#    print(Selection_sort_matrix[i])\n",
    "print(\"Время выполнения: \",'%.2f' %end_time_Selection_sort,\"sec\")    "
   ]
  },
  {
   "cell_type": "code",
   "execution_count": 20,
   "id": "c197d609",
   "metadata": {},
   "outputs": [
    {
     "name": "stdout",
     "output_type": "stream",
     "text": [
      "Время выполнения:  0.00 sec\n"
     ]
    }
   ],
   "source": [
    "insertion_sort_matrix = copy.deepcopy(matrix)\n",
    "start_time = time.time()\n",
    "insertion_sort(insertion_sort_matrix)\n",
    "end_time_insertion_sort = time.time()-start_time\n",
    "#print(\"Сортировка простым выбором:\")\n",
    "#for i in range (len(insertion_sort_matrix)):\n",
    "#    print(insertion_sort_matrix[i])\n",
    "print(\"Время выполнения: \",'%.2f' %end_time_insertion_sort,\"sec\")  "
   ]
  },
  {
   "cell_type": "code",
   "execution_count": 21,
   "id": "2854b2d4",
   "metadata": {},
   "outputs": [
    {
     "name": "stdout",
     "output_type": "stream",
     "text": [
      "Время выполнения:  0.01 sec\n"
     ]
    }
   ],
   "source": [
    "bubble_sort_matrix = copy.deepcopy(matrix)\n",
    "start_time = time.time()\n",
    "bubble_sort(bubble_sort_matrix)\n",
    "end_time_bubble_sort = time.time()-start_time\n",
    "#for i in range(len(bubble_sort_matrix)):\n",
    "#    print(bubble_sort_matrix[i])\n",
    "print(\"Время выполнения: \",'%.2f' %end_time_bubble_sort,\"sec\")"
   ]
  },
  {
   "cell_type": "code",
   "execution_count": 22,
   "id": "2b0d7608",
   "metadata": {},
   "outputs": [
    {
     "name": "stdout",
     "output_type": "stream",
     "text": [
      "Время выполнения:  0.00 sec\n"
     ]
    }
   ],
   "source": [
    "shellSort_matrix = copy.deepcopy(matrix)\n",
    "start_time = time.time()\n",
    "shellSort(shellSort_matrix)\n",
    "end_time_shell_Sort = time.time()-start_time\n",
    "#for i in range(len(shellSort_matrix)):\n",
    "#    print(shellSort_matrix[i])\n",
    "print(\"Время выполнения: \",'%.2f' %end_time_shell_Sort,\"sec\")"
   ]
  },
  {
   "cell_type": "code",
   "execution_count": 23,
   "id": "b5a49c36",
   "metadata": {},
   "outputs": [
    {
     "name": "stdout",
     "output_type": "stream",
     "text": [
      "Время выполнения:  0.01 sec\n"
     ]
    }
   ],
   "source": [
    "heapSort_matrix = copy.deepcopy(matrix)\n",
    "start_time = time.time()\n",
    "heapSort(heapSort_matrix)\n",
    "end_time_heap_Sort = time.time()-start_time\n",
    "#for i in range(len(heapSort_matrix)):\n",
    "#    print(heapSort_matrix[i])\n",
    "print(\"Время выполнения: \",'%.2f' %end_time_heap_Sort,\"sec\")"
   ]
  },
  {
   "cell_type": "code",
   "execution_count": 24,
   "id": "676c154f",
   "metadata": {},
   "outputs": [
    {
     "name": "stdout",
     "output_type": "stream",
     "text": [
      "Время выполнения:  0.00 sec\n"
     ]
    }
   ],
   "source": [
    "quick_sort_matrix = copy.deepcopy(matrix)\n",
    "start_time = time.time()\n",
    "quick_sort(quick_sort_matrix)\n",
    "end_time_quick_sort = time.time()-start_time\n",
    "#for i in range(len(quick_sort_matrix)):\n",
    "#    print(quick_sort_matrix[i])\n",
    "print(\"Время выполнения: \",'%.2f' %end_time_quick_sort,\"sec\")"
   ]
  },
  {
   "cell_type": "code",
   "execution_count": 25,
   "id": "0f230e5b",
   "metadata": {},
   "outputs": [
    {
     "name": "stdout",
     "output_type": "stream",
     "text": [
      "Время выполнения:  0.00 sec\n"
     ]
    }
   ],
   "source": [
    "basic_sort = copy.deepcopy(matrix)\n",
    "start_time = time.time()\n",
    "for i in range(len(basic_sort)):\n",
    "    basic_sort[i].sort()\n",
    "end_time_basic_sort = time.time()-start_time\n",
    "#for b in range(len(basic_sort)):\n",
    "#    print(basic_sort[b])\n",
    "print(\"Время выполнения: \",'%.2f' %end_time_basic_sort,\"sec\")"
   ]
  },
  {
   "cell_type": "code",
   "execution_count": 26,
   "id": "1cc37a0e",
   "metadata": {
    "scrolled": true
   },
   "outputs": [
    {
     "data": {
      "text/html": [
       "<div>\n",
       "<style scoped>\n",
       "    .dataframe tbody tr th:only-of-type {\n",
       "        vertical-align: middle;\n",
       "    }\n",
       "\n",
       "    .dataframe tbody tr th {\n",
       "        vertical-align: top;\n",
       "    }\n",
       "\n",
       "    .dataframe thead th {\n",
       "        text-align: right;\n",
       "    }\n",
       "</style>\n",
       "<table border=\"1\" class=\"dataframe\">\n",
       "  <thead>\n",
       "    <tr style=\"text-align: right;\">\n",
       "      <th></th>\n",
       "      <th>Название сортировки</th>\n",
       "      <th>Время выполнения сек</th>\n",
       "    </tr>\n",
       "  </thead>\n",
       "  <tbody>\n",
       "    <tr>\n",
       "      <th>1</th>\n",
       "      <td>Сортировка выбором</td>\n",
       "      <td>0.007978</td>\n",
       "    </tr>\n",
       "    <tr>\n",
       "      <th>2</th>\n",
       "      <td>Сортировка вставкой</td>\n",
       "      <td>0.004013</td>\n",
       "    </tr>\n",
       "    <tr>\n",
       "      <th>3</th>\n",
       "      <td>Сортировка пузырьком</td>\n",
       "      <td>0.010000</td>\n",
       "    </tr>\n",
       "    <tr>\n",
       "      <th>4</th>\n",
       "      <td>Сортировка Шелла</td>\n",
       "      <td>0.003019</td>\n",
       "    </tr>\n",
       "    <tr>\n",
       "      <th>5</th>\n",
       "      <td>Пирамидальная сортировка</td>\n",
       "      <td>0.005957</td>\n",
       "    </tr>\n",
       "    <tr>\n",
       "      <th>6</th>\n",
       "      <td>Быстрая сортировка</td>\n",
       "      <td>0.002991</td>\n",
       "    </tr>\n",
       "    <tr>\n",
       "      <th>7</th>\n",
       "      <td>Стандартная сортировка</td>\n",
       "      <td>0.000997</td>\n",
       "    </tr>\n",
       "  </tbody>\n",
       "</table>\n",
       "</div>"
      ],
      "text/plain": [
       "        Название сортировки  Время выполнения сек\n",
       "1        Сортировка выбором              0.007978\n",
       "2       Сортировка вставкой              0.004013\n",
       "3      Сортировка пузырьком              0.010000\n",
       "4          Сортировка Шелла              0.003019\n",
       "5  Пирамидальная сортировка              0.005957\n",
       "6        Быстрая сортировка              0.002991\n",
       "7    Стандартная сортировка              0.000997"
      ]
     },
     "execution_count": 26,
     "metadata": {},
     "output_type": "execute_result"
    }
   ],
   "source": [
    "Sort_time = {\"Название сортировки\": [\"Сортировка выбором\",\"Сортировка вставкой\",\"Сортировка пузырьком\",\n",
    "                           \"Сортировка Шелла\",\"Пирамидальная сортировка\",\n",
    "                           \"Быстрая сортировка\",\"Стандартная сортировка\"],\n",
    "             \"Время выполнения сек\" : [end_time_Selection_sort,end_time_insertion_sort,end_time_bubble_sort,end_time_shell_Sort,\n",
    "                       end_time_heap_Sort,end_time_quick_sort,end_time_basic_sort]}\n",
    "df = pd.DataFrame(Sort_time, index = [\"1\",\"2\",\"3\",\"4\",\"5\",\"6\",\"7\"])\n",
    "df"
   ]
  },
  {
   "cell_type": "markdown",
   "id": "708b2d0a",
   "metadata": {},
   "source": [
    "## Задание №4\n",
    "Создать публичный репозиторий на github, и запушить выполненное задание в\n",
    ".ipynb формате."
   ]
  },
  {
   "cell_type": "code",
   "execution_count": null,
   "id": "e15f2a4f",
   "metadata": {},
   "outputs": [],
   "source": []
  },
  {
   "cell_type": "code",
   "execution_count": null,
   "id": "e8eb9875",
   "metadata": {},
   "outputs": [],
   "source": []
  }
 ],
 "metadata": {
  "kernelspec": {
   "display_name": "Python 3 (ipykernel)",
   "language": "python",
   "name": "python3"
  },
  "language_info": {
   "codemirror_mode": {
    "name": "ipython",
    "version": 3
   },
   "file_extension": ".py",
   "mimetype": "text/x-python",
   "name": "python",
   "nbconvert_exporter": "python",
   "pygments_lexer": "ipython3",
   "version": "3.10.0"
  }
 },
 "nbformat": 4,
 "nbformat_minor": 5
}
